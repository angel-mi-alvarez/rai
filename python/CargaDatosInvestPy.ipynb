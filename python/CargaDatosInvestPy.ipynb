{
 "cells": [
  {
   "cell_type": "markdown",
   "metadata": {},
   "source": [
    "# Carga de datos de Activos financieros (tablas de hechos)\n",
    "\n",
    "Utilizando Investpy, librería de Python que obtiene los datos de investing.com sobre\n",
    "https://investpy.readthedocs.io  and https://readthedocs.org/projects/investpy/downloads/pdf/latest/\n",
    "\n",
    "Instalacion de la librería\n",
    "$ python -m pip install investpy\n",
    "$ conda install investpy\n",
    "$ python -m pip install https://github.com/alvarobartt/investpy/archive/master.zip\n",
    "\n",
    "Actualizacion de la librería\n",
    "$ python -m pip install --upgrade investpy\n",
    "$ conda update investpy\n",
    "$ python -m pip install --upgrade https://github.com/alvarobartt/investpy/archive/master.zip\n",
    "\n",
    "Los tipos de activos financieros de los que se pueden extraer datos \"BÁSICOS\" de cotizacion son:\n",
    "\n",
    "- Investment Funds - Fondos de Inversion\n",
    "- ETFs\n",
    "- Indices bursatiles - IBEX35, ...\n",
    "- Stocks - Acciones\n",
    "- CURRENCY converter\n",
    "\n",
    "investpy is a Python package developed in order to retrieve all the available historical data from stocks/stocks, funds and ETFs from Investing.com. As Investing.com does not have any API to retrieve historical data, the main goal of this package is to allow users retrieve information from all the available financial products.\n",
    "\n",
    "investpy came to life due to the need of covering the existing shortcomings in terms of real time data retrieval from stocks of the companies that make up the Spanish Stock Market, until the date there was no other package that provided a data extraction model for stocks from the Spanish Stock Market.\n",
    "\n",
    "\n"
   ]
  },
  {
   "cell_type": "code",
   "execution_count": 1,
   "metadata": {},
   "outputs": [],
   "source": [
    "#!python -m pip install --upgrade https://github.com/alvarobartt/investpy/archive/master.zip\n",
    "import investpy\n",
    "import pandas\n",
    "\n",
    "#Liberías para gráficos plot()\n",
    "# importar todas las funciones de pylab\n",
    "from pylab import *\n",
    "# importar el módulo pyplot\n",
    "import matplotlib.pyplot as plt\n"
   ]
  },
  {
   "cell_type": "markdown",
   "metadata": {},
   "source": [
    "# Carga de Fondos de Inversion\n",
    "\n",
    "A continuación, cargamos los datos básicos de fondos de inversión y los almacenamos en ficheros\n"
   ]
  },
  {
   "cell_type": "code",
   "execution_count": 2,
   "metadata": {},
   "outputs": [
    {
     "name": "stdout",
     "output_type": "stream",
     "text": [
      "             Open   High    Low  Close Currency\n",
      "Date                                           \n",
      "2021-01-07  1.128  1.128  1.128  1.128      EUR\n",
      "2021-01-08  1.131  1.131  1.131  1.131      EUR\n",
      "2021-01-11  1.131  1.131  1.131  1.131      EUR\n",
      "2021-01-12  1.129  1.129  1.129  1.129      EUR\n",
      "2021-01-13  1.132  1.132  1.132  1.132      EUR\n",
      "2021-01-14  1.133  1.133  1.133  1.133      EUR\n",
      "2021-01-15  1.130  1.130  1.130  1.130      EUR\n",
      "2021-01-18  1.129  1.129  1.129  1.129      EUR\n",
      "2021-01-19  1.131  1.131  1.131  1.131      EUR\n",
      "2021-01-20  1.139  1.139  1.139  1.139      EUR\n",
      "2021-01-21  1.139  1.139  1.139  1.139      EUR\n",
      "2021-01-22  1.136  1.136  1.136  1.136      EUR\n",
      "2021-01-25  1.136  1.136  1.136  1.136      EUR\n",
      "2021-01-26  1.137  1.137  1.137  1.137      EUR\n",
      "2021-01-27  1.127  1.127  1.127  1.127      EUR\n",
      "2021-01-28  1.127  1.127  1.127  1.127      EUR\n",
      "2021-01-29  1.118  1.118  1.118  1.118      EUR\n",
      "2021-02-01  1.123  1.123  1.123  1.123      EUR\n",
      "2021-02-02  1.132  1.132  1.132  1.132      EUR\n",
      "2021-02-03  1.135  1.135  1.135  1.135      EUR\n",
      "2021-02-04  1.139  1.139  1.139  1.139      EUR\n"
     ]
    }
   ],
   "source": [
    "# Ultimos datos de un fondo de inversion específico, recupera los últimos 16 registros mas recientes\n",
    "df = investpy.get_fund_recent_data(fund='bbva plan multiactivo moderado pp',\n",
    "                                   country='spain')\n",
    "print(df)"
   ]
  },
  {
   "cell_type": "code",
   "execution_count": 3,
   "metadata": {},
   "outputs": [
    {
     "name": "stdout",
     "output_type": "stream",
     "text": [
      "             Open   High    Low  Close Currency\n",
      "Date                                           \n",
      "2018-02-15  1.105  1.105  1.105  1.105      EUR\n",
      "2018-02-16  1.113  1.113  1.113  1.113      EUR\n",
      "2018-02-17  1.113  1.113  1.113  1.113      EUR\n",
      "2018-02-18  1.113  1.113  1.113  1.113      EUR\n",
      "2018-02-19  1.111  1.111  1.111  1.111      EUR\n"
     ]
    }
   ],
   "source": [
    "# Recupera los registros de un periodo de tiempo especificado\n",
    "df = investpy.get_fund_historical_data(fund='bbva plan multiactivo moderado pp',\n",
    "                                       country='spain',\n",
    "                                       from_date='01/01/2010',\n",
    "                                       to_date='01/01/2019')\n",
    "print(df.head())"
   ]
  },
  {
   "cell_type": "code",
   "execution_count": 4,
   "metadata": {},
   "outputs": [
    {
     "name": "stdout",
     "output_type": "stream",
     "text": [
      "{'Fund Name': 'bbva plan multiactivo moderado pp', 'Rating': '', '1-Year Change': '- 2.66%', 'Previous Close': nan, 'Risk Rating': '', 'TTM Yield': '0%', 'ROE': '14.02%', 'Issuer': nan, 'Turnover': None, 'ROA': '4.97%', 'Inception Date': '16/10/2012', 'Total Assets': 1910000000.0, 'Expenses': None, 'Min Investment': nan, 'Market Cap': 34820000000.0, 'Category': nan}\n"
     ]
    }
   ],
   "source": [
    "# Recupera información basica de las características de un Fondo de inversion\n",
    "\n",
    "fund_information = investpy.get_fund_information(fund='bbva plan multiactivo moderado pp',\n",
    "                                                 country='spain',\n",
    "                                                 as_json=True)\n",
    "print(fund_information)"
   ]
  },
  {
   "cell_type": "code",
   "execution_count": 5,
   "metadata": {},
   "outputs": [],
   "source": [
    "# Retrieve all available funds information as a pandas.DataFrame\n",
    "funds_df = investpy.get_funds(country=\"Spain\")\n",
    "# Retrieve a listing of all the available fund names\n",
    "funds_list = investpy.get_funds_list(country=\"Spain\")\n",
    "# Retrieve a dictionary with all the funds and all of their information fields\n",
    "funds_dict = investpy.get_funds_dict(country=\"Spain\")"
   ]
  },
  {
   "cell_type": "code",
   "execution_count": 6,
   "metadata": {},
   "outputs": [
    {
     "data": {
      "text/plain": [
       "4107"
      ]
     },
     "execution_count": 6,
     "metadata": {},
     "output_type": "execute_result"
    }
   ],
   "source": [
    "len(funds_list)"
   ]
  },
  {
   "cell_type": "code",
   "execution_count": 8,
   "metadata": {},
   "outputs": [
    {
     "data": {
      "text/plain": [
       "['Ubs Mixto Gestión Activa I Fi',\n",
       " 'Abante Valor Fi',\n",
       " 'Bankinter Multiselección Conservador Fi',\n",
       " 'Ing Direct Fondo Naranja Conservador Fi',\n",
       " 'Ubs Mixto Gestión Activa P Fi',\n",
       " 'Fonengin Isr, Fi',\n",
       " 'Fondmapfre Elección Prudente Fi',\n",
       " 'Rural Mixto Internacional 25 Fi',\n",
       " 'Ubs Retorno Activo P Fi',\n",
       " 'Rfmi Multigestión Fi']"
      ]
     },
     "execution_count": 8,
     "metadata": {},
     "output_type": "execute_result"
    }
   ],
   "source": [
    "funds_list[0:10]"
   ]
  },
  {
   "cell_type": "code",
   "execution_count": 9,
   "metadata": {},
   "outputs": [
    {
     "data": {
      "text/html": [
       "<div>\n",
       "<style scoped>\n",
       "    .dataframe tbody tr th:only-of-type {\n",
       "        vertical-align: middle;\n",
       "    }\n",
       "\n",
       "    .dataframe tbody tr th {\n",
       "        vertical-align: top;\n",
       "    }\n",
       "\n",
       "    .dataframe thead th {\n",
       "        text-align: right;\n",
       "    }\n",
       "</style>\n",
       "<table border=\"1\" class=\"dataframe\">\n",
       "  <thead>\n",
       "    <tr style=\"text-align: right;\">\n",
       "      <th></th>\n",
       "      <th>country</th>\n",
       "      <th>name</th>\n",
       "      <th>symbol</th>\n",
       "      <th>issuer</th>\n",
       "      <th>isin</th>\n",
       "      <th>asset_class</th>\n",
       "      <th>currency</th>\n",
       "      <th>underlying</th>\n",
       "    </tr>\n",
       "  </thead>\n",
       "  <tbody>\n",
       "    <tr>\n",
       "      <th>0</th>\n",
       "      <td>spain</td>\n",
       "      <td>Ubs Mixto Gestión Activa I Fi</td>\n",
       "      <td>158316036</td>\n",
       "      <td>UBS Gestión SGIIC</td>\n",
       "      <td>ES0158316036</td>\n",
       "      <td>equity</td>\n",
       "      <td>EUR</td>\n",
       "      <td>None</td>\n",
       "    </tr>\n",
       "    <tr>\n",
       "      <th>1</th>\n",
       "      <td>spain</td>\n",
       "      <td>Abante Valor Fi</td>\n",
       "      <td>190052037</td>\n",
       "      <td>Abante Asesores Gestión SGIIC</td>\n",
       "      <td>ES0190052037</td>\n",
       "      <td>equity</td>\n",
       "      <td>EUR</td>\n",
       "      <td>None</td>\n",
       "    </tr>\n",
       "    <tr>\n",
       "      <th>2</th>\n",
       "      <td>spain</td>\n",
       "      <td>Bankinter Multiselección Conservador Fi</td>\n",
       "      <td>180959035</td>\n",
       "      <td>Bankinter Gestión de Activos SGIIC</td>\n",
       "      <td>ES0180959035</td>\n",
       "      <td>equity</td>\n",
       "      <td>EUR</td>\n",
       "      <td>None</td>\n",
       "    </tr>\n",
       "    <tr>\n",
       "      <th>3</th>\n",
       "      <td>spain</td>\n",
       "      <td>Ing Direct Fondo Naranja Conservador Fi</td>\n",
       "      <td>152747004</td>\n",
       "      <td>Amundi Iberia SGIIC</td>\n",
       "      <td>ES0152747004</td>\n",
       "      <td>equity</td>\n",
       "      <td>EUR</td>\n",
       "      <td>None</td>\n",
       "    </tr>\n",
       "    <tr>\n",
       "      <th>4</th>\n",
       "      <td>spain</td>\n",
       "      <td>Ubs Mixto Gestión Activa P Fi</td>\n",
       "      <td>158316002</td>\n",
       "      <td>UBS Gestión SGIIC</td>\n",
       "      <td>ES0158316002</td>\n",
       "      <td>equity</td>\n",
       "      <td>EUR</td>\n",
       "      <td>None</td>\n",
       "    </tr>\n",
       "  </tbody>\n",
       "</table>\n",
       "</div>"
      ],
      "text/plain": [
       "  country                                     name     symbol  \\\n",
       "0   spain            Ubs Mixto Gestión Activa I Fi  158316036   \n",
       "1   spain                          Abante Valor Fi  190052037   \n",
       "2   spain  Bankinter Multiselección Conservador Fi  180959035   \n",
       "3   spain  Ing Direct Fondo Naranja Conservador Fi  152747004   \n",
       "4   spain            Ubs Mixto Gestión Activa P Fi  158316002   \n",
       "\n",
       "                               issuer          isin asset_class currency  \\\n",
       "0                   UBS Gestión SGIIC  ES0158316036      equity      EUR   \n",
       "1       Abante Asesores Gestión SGIIC  ES0190052037      equity      EUR   \n",
       "2  Bankinter Gestión de Activos SGIIC  ES0180959035      equity      EUR   \n",
       "3                 Amundi Iberia SGIIC  ES0152747004      equity      EUR   \n",
       "4                   UBS Gestión SGIIC  ES0158316002      equity      EUR   \n",
       "\n",
       "  underlying  \n",
       "0       None  \n",
       "1       None  \n",
       "2       None  \n",
       "3       None  \n",
       "4       None  "
      ]
     },
     "execution_count": 9,
     "metadata": {},
     "output_type": "execute_result"
    }
   ],
   "source": [
    "funds_df.head()"
   ]
  },
  {
   "cell_type": "code",
   "execution_count": null,
   "metadata": {},
   "outputs": [],
   "source": []
  },
  {
   "cell_type": "code",
   "execution_count": 10,
   "metadata": {},
   "outputs": [],
   "source": [
    "countries = investpy.get_fund_countries()\n",
    "\n",
    "# Check if a country is either or not in the list & then get all the available funds from that country\n",
    "if 'spain' in countries:\n",
    "    funds = investpy.get_funds_list(country='spain')"
   ]
  },
  {
   "cell_type": "code",
   "execution_count": 11,
   "metadata": {},
   "outputs": [
    {
     "name": "stdout",
     "output_type": "stream",
     "text": [
      "        country                                               name  \\\n",
      "0    luxembourg    Bbva Durbana International Fund Bbva Bitacora A   \n",
      "1    luxembourg                     Bbva Dif European Equity P Eur   \n",
      "2    luxembourg  Bbva Durbana International Fund Bbva European ...   \n",
      "3    luxembourg                     Bbva Dif European Equity P Usd   \n",
      "4        mexico        Fondo Bbva Bancomer Rv5 Sa De Cv S.i.r.v. E   \n",
      "..          ...                                                ...   \n",
      "648       spain                       Bbva Bolsa Usa (cubierto) Fi   \n",
      "649       spain                         Bbva Mi Inversión Bolsa Fi   \n",
      "650       spain                Bbva Bolsa Plan Dividendo Europa Fi   \n",
      "651       spain             Bbva Mi Inversión Bolsa Acumulación Fi   \n",
      "652       spain                 Bbva Catalana Cartera, Sicav, S.a.   \n",
      "\n",
      "         symbol                          issuer          isin asset_class  \\\n",
      "0    0P0000RUZV     BBVA Asset Management SGIIC  LU0551332983      equity   \n",
      "1    0P00015LR9     BBVA Asset Management SGIIC  LU1097722836      equity   \n",
      "2    0P00008Y7Q     BBVA Asset Management SGIIC  LU0279747918      equity   \n",
      "3    0P000160YM     BBVA Asset Management SGIIC  LU1097722752      equity   \n",
      "4    0P0000RYZL  BBVA Bancomer Gestión SA de CV  MX52BR070019      equity   \n",
      "..          ...                             ...           ...         ...   \n",
      "648   134599036     BBVA Asset Management SGIIC  ES0134599036      equity   \n",
      "649  0P00013C4S     BBVA Asset Management SGIIC  ES0119178004      equity   \n",
      "650   113536009     BBVA Asset Management SGIIC  ES0113536009      equity   \n",
      "651  0P0000VQFA     BBVA Asset Management SGIIC  ES0125269003      equity   \n",
      "652  0P0000ISS3     BBVA Asset Management SGIIC  ES0116853039      equity   \n",
      "\n",
      "    currency underlying  \n",
      "0        EUR        NaN  \n",
      "1        EUR        NaN  \n",
      "2        EUR        NaN  \n",
      "3        USD        NaN  \n",
      "4        MXN        NaN  \n",
      "..       ...        ...  \n",
      "648      EUR        NaN  \n",
      "649      EUR        NaN  \n",
      "650      EUR        NaN  \n",
      "651      EUR        NaN  \n",
      "652      EUR        NaN  \n",
      "\n",
      "[653 rows x 8 columns]\n"
     ]
    }
   ],
   "source": [
    "\n",
    "search_result = investpy.search_funds(by='name', value='bbva')\n",
    "\n",
    "# Get both name and country via pandas.DataFrame index\n",
    "index = 0\n",
    "name = search_result.loc[index, 'name']\n",
    "country = search_result.loc[index, 'country']\n",
    "\n",
    "\n",
    "# Or get it manually via printing the resulting pandas.DataFrame\n",
    "print(search_result)\n"
   ]
  },
  {
   "cell_type": "code",
   "execution_count": 12,
   "metadata": {},
   "outputs": [
    {
     "ename": "AttributeError",
     "evalue": "'bool' object has no attribute 'idxmax'",
     "output_type": "error",
     "traceback": [
      "\u001b[0;31m---------------------------------------------------------------------------\u001b[0m",
      "\u001b[0;31mAttributeError\u001b[0m                            Traceback (most recent call last)",
      "\u001b[0;32m<ipython-input-12-15eacffb07b8>\u001b[0m in \u001b[0;36m<module>\u001b[0;34m\u001b[0m\n\u001b[1;32m      4\u001b[0m \u001b[0;34m\u001b[0m\u001b[0m\n\u001b[1;32m      5\u001b[0m \u001b[0misin\u001b[0m \u001b[0;34m=\u001b[0m \u001b[0;34m'ES0113211835'\u001b[0m\u001b[0;34m\u001b[0m\u001b[0;34m\u001b[0m\u001b[0m\n\u001b[0;32m----> 6\u001b[0;31m \u001b[0mname\u001b[0m \u001b[0;34m=\u001b[0m \u001b[0msearch_result\u001b[0m\u001b[0;34m.\u001b[0m\u001b[0mloc\u001b[0m\u001b[0;34m[\u001b[0m\u001b[0;34m(\u001b[0m\u001b[0msearch_result\u001b[0m\u001b[0;34m[\u001b[0m\u001b[0;34m'isin'\u001b[0m\u001b[0;34m]\u001b[0m\u001b[0;34m.\u001b[0m\u001b[0mstr\u001b[0m \u001b[0;34m==\u001b[0m \u001b[0misin\u001b[0m\u001b[0;34m)\u001b[0m\u001b[0;34m.\u001b[0m\u001b[0midxmax\u001b[0m\u001b[0;34m(\u001b[0m\u001b[0;34m)\u001b[0m\u001b[0;34m,\u001b[0m \u001b[0;34m'name'\u001b[0m\u001b[0;34m]\u001b[0m\u001b[0;34m\u001b[0m\u001b[0;34m\u001b[0m\u001b[0m\n\u001b[0m\u001b[1;32m      7\u001b[0m \u001b[0mcountry\u001b[0m \u001b[0;34m=\u001b[0m \u001b[0msearch_result\u001b[0m\u001b[0;34m.\u001b[0m\u001b[0mloc\u001b[0m\u001b[0;34m[\u001b[0m\u001b[0;34m(\u001b[0m\u001b[0msearch_result\u001b[0m\u001b[0;34m[\u001b[0m\u001b[0;34m'isin'\u001b[0m\u001b[0;34m]\u001b[0m\u001b[0;34m.\u001b[0m\u001b[0mstr\u001b[0m \u001b[0;34m==\u001b[0m \u001b[0misin\u001b[0m\u001b[0;34m)\u001b[0m\u001b[0;34m.\u001b[0m\u001b[0midxmax\u001b[0m\u001b[0;34m(\u001b[0m\u001b[0;34m)\u001b[0m\u001b[0;34m,\u001b[0m \u001b[0;34m'country'\u001b[0m\u001b[0;34m]\u001b[0m\u001b[0;34m\u001b[0m\u001b[0;34m\u001b[0m\u001b[0m\n\u001b[1;32m      8\u001b[0m \u001b[0;34m\u001b[0m\u001b[0m\n",
      "\u001b[0;31mAttributeError\u001b[0m: 'bool' object has no attribute 'idxmax'"
     ]
    }
   ],
   "source": [
    "# Get both name and country via unique field such as isin\n",
    "\n",
    "search_result = investpy.search_funds(by='name', value='bbva')\n",
    "\n",
    "isin = 'ES0113211835'\n",
    "name = search_result.loc[(search_result['isin'].str == isin).idxmax(), 'name']\n",
    "country = search_result.loc[(search_result['isin'].str == isin).idxmax(), 'country']\n",
    "\n"
   ]
  },
  {
   "cell_type": "code",
   "execution_count": 13,
   "metadata": {},
   "outputs": [],
   "source": [
    "# Retrieves last month's data of 'Bankia Cauto Pp', which is a fund from 'Spain', as a pandas.DataFrame\n",
    "df = investpy.get_fund_recent_data(fund='Bankia Cauto Pp', country='spain')\n"
   ]
  },
  {
   "cell_type": "code",
   "execution_count": 14,
   "metadata": {},
   "outputs": [],
   "source": [
    "\n",
    "# Retrieves historical data of 'Bankia Cauto Pp', which is a fund from 'Spain', on the specified date range as a pandas.DataFrame\n",
    "df_hist = investpy.get_fund_historical_data(fund='Bankia Cauto Pp', country='spain', from_date='01/01/2018', to_date='01/01/2019')"
   ]
  },
  {
   "cell_type": "code",
   "execution_count": 15,
   "metadata": {},
   "outputs": [
    {
     "data": {
      "text/html": [
       "<div>\n",
       "<style scoped>\n",
       "    .dataframe tbody tr th:only-of-type {\n",
       "        vertical-align: middle;\n",
       "    }\n",
       "\n",
       "    .dataframe tbody tr th {\n",
       "        vertical-align: top;\n",
       "    }\n",
       "\n",
       "    .dataframe thead th {\n",
       "        text-align: right;\n",
       "    }\n",
       "</style>\n",
       "<table border=\"1\" class=\"dataframe\">\n",
       "  <thead>\n",
       "    <tr style=\"text-align: right;\">\n",
       "      <th></th>\n",
       "      <th>Open</th>\n",
       "      <th>High</th>\n",
       "      <th>Low</th>\n",
       "      <th>Close</th>\n",
       "      <th>Currency</th>\n",
       "    </tr>\n",
       "    <tr>\n",
       "      <th>Date</th>\n",
       "      <th></th>\n",
       "      <th></th>\n",
       "      <th></th>\n",
       "      <th></th>\n",
       "      <th></th>\n",
       "    </tr>\n",
       "  </thead>\n",
       "  <tbody>\n",
       "    <tr>\n",
       "      <th>2021-01-06</th>\n",
       "      <td>119.569</td>\n",
       "      <td>119.569</td>\n",
       "      <td>119.569</td>\n",
       "      <td>119.569</td>\n",
       "      <td>EUR</td>\n",
       "    </tr>\n",
       "    <tr>\n",
       "      <th>2021-01-07</th>\n",
       "      <td>119.755</td>\n",
       "      <td>119.755</td>\n",
       "      <td>119.755</td>\n",
       "      <td>119.755</td>\n",
       "      <td>EUR</td>\n",
       "    </tr>\n",
       "    <tr>\n",
       "      <th>2021-01-08</th>\n",
       "      <td>119.835</td>\n",
       "      <td>119.835</td>\n",
       "      <td>119.835</td>\n",
       "      <td>119.835</td>\n",
       "      <td>EUR</td>\n",
       "    </tr>\n",
       "    <tr>\n",
       "      <th>2021-01-09</th>\n",
       "      <td>119.832</td>\n",
       "      <td>119.832</td>\n",
       "      <td>119.832</td>\n",
       "      <td>119.832</td>\n",
       "      <td>EUR</td>\n",
       "    </tr>\n",
       "    <tr>\n",
       "      <th>2021-01-10</th>\n",
       "      <td>119.830</td>\n",
       "      <td>119.830</td>\n",
       "      <td>119.830</td>\n",
       "      <td>119.830</td>\n",
       "      <td>EUR</td>\n",
       "    </tr>\n",
       "  </tbody>\n",
       "</table>\n",
       "</div>"
      ],
      "text/plain": [
       "               Open     High      Low    Close Currency\n",
       "Date                                                   \n",
       "2021-01-06  119.569  119.569  119.569  119.569      EUR\n",
       "2021-01-07  119.755  119.755  119.755  119.755      EUR\n",
       "2021-01-08  119.835  119.835  119.835  119.835      EUR\n",
       "2021-01-09  119.832  119.832  119.832  119.832      EUR\n",
       "2021-01-10  119.830  119.830  119.830  119.830      EUR"
      ]
     },
     "execution_count": 15,
     "metadata": {},
     "output_type": "execute_result"
    }
   ],
   "source": [
    "df.head()"
   ]
  },
  {
   "cell_type": "code",
   "execution_count": 16,
   "metadata": {},
   "outputs": [
    {
     "data": {
      "text/html": [
       "<div>\n",
       "<style scoped>\n",
       "    .dataframe tbody tr th:only-of-type {\n",
       "        vertical-align: middle;\n",
       "    }\n",
       "\n",
       "    .dataframe tbody tr th {\n",
       "        vertical-align: top;\n",
       "    }\n",
       "\n",
       "    .dataframe thead th {\n",
       "        text-align: right;\n",
       "    }\n",
       "</style>\n",
       "<table border=\"1\" class=\"dataframe\">\n",
       "  <thead>\n",
       "    <tr style=\"text-align: right;\">\n",
       "      <th></th>\n",
       "      <th>Open</th>\n",
       "      <th>High</th>\n",
       "      <th>Low</th>\n",
       "      <th>Close</th>\n",
       "      <th>Currency</th>\n",
       "    </tr>\n",
       "    <tr>\n",
       "      <th>Date</th>\n",
       "      <th></th>\n",
       "      <th></th>\n",
       "      <th></th>\n",
       "      <th></th>\n",
       "      <th></th>\n",
       "    </tr>\n",
       "  </thead>\n",
       "  <tbody>\n",
       "    <tr>\n",
       "      <th>2018-02-15</th>\n",
       "      <td>119.234</td>\n",
       "      <td>119.234</td>\n",
       "      <td>119.234</td>\n",
       "      <td>119.234</td>\n",
       "      <td>EUR</td>\n",
       "    </tr>\n",
       "    <tr>\n",
       "      <th>2018-02-16</th>\n",
       "      <td>119.436</td>\n",
       "      <td>119.436</td>\n",
       "      <td>119.436</td>\n",
       "      <td>119.436</td>\n",
       "      <td>EUR</td>\n",
       "    </tr>\n",
       "    <tr>\n",
       "      <th>2018-02-17</th>\n",
       "      <td>119.435</td>\n",
       "      <td>119.435</td>\n",
       "      <td>119.435</td>\n",
       "      <td>119.435</td>\n",
       "      <td>EUR</td>\n",
       "    </tr>\n",
       "    <tr>\n",
       "      <th>2018-02-18</th>\n",
       "      <td>119.435</td>\n",
       "      <td>119.435</td>\n",
       "      <td>119.435</td>\n",
       "      <td>119.435</td>\n",
       "      <td>EUR</td>\n",
       "    </tr>\n",
       "  </tbody>\n",
       "</table>\n",
       "</div>"
      ],
      "text/plain": [
       "               Open     High      Low    Close Currency\n",
       "Date                                                   \n",
       "2018-02-15  119.234  119.234  119.234  119.234      EUR\n",
       "2018-02-16  119.436  119.436  119.436  119.436      EUR\n",
       "2018-02-17  119.435  119.435  119.435  119.435      EUR\n",
       "2018-02-18  119.435  119.435  119.435  119.435      EUR"
      ]
     },
     "execution_count": 16,
     "metadata": {},
     "output_type": "execute_result"
    }
   ],
   "source": [
    "df_hist.head(4)"
   ]
  },
  {
   "cell_type": "code",
   "execution_count": 17,
   "metadata": {},
   "outputs": [
    {
     "data": {
      "image/png": "[encoded data removed]",
      "text/plain": [
       "<Figure size 432x288 with 1 Axes>"
      ]
     },
     "metadata": {
      "needs_background": "light"
     },
     "output_type": "display_data"
    }
   ],
   "source": [
    "plot(df_hist.Open)\n",
    "show()"
   ]
  },
  {
   "cell_type": "markdown",
   "metadata": {},
   "source": [
    "## Informacion del fondo\n",
    "\n",
    "presentar información básica del fondo de inversión\n"
   ]
  },
  {
   "cell_type": "code",
   "execution_count": 18,
   "metadata": {},
   "outputs": [],
   "source": [
    "# Retrieve information from the introduced fund in the specified country\n",
    "data = investpy.get_fund_information(fund='Bankia Cauto Pp', country='spain')"
   ]
  },
  {
   "cell_type": "code",
   "execution_count": 19,
   "metadata": {},
   "outputs": [
    {
     "data": {
      "text/html": [
       "<div>\n",
       "<style scoped>\n",
       "    .dataframe tbody tr th:only-of-type {\n",
       "        vertical-align: middle;\n",
       "    }\n",
       "\n",
       "    .dataframe tbody tr th {\n",
       "        vertical-align: top;\n",
       "    }\n",
       "\n",
       "    .dataframe thead th {\n",
       "        text-align: right;\n",
       "    }\n",
       "</style>\n",
       "<table border=\"1\" class=\"dataframe\">\n",
       "  <thead>\n",
       "    <tr style=\"text-align: right;\">\n",
       "      <th></th>\n",
       "      <th>Fund Name</th>\n",
       "      <th>Rating</th>\n",
       "      <th>1-Year Change</th>\n",
       "      <th>Previous Close</th>\n",
       "      <th>Risk Rating</th>\n",
       "      <th>TTM Yield</th>\n",
       "      <th>ROE</th>\n",
       "      <th>Issuer</th>\n",
       "      <th>Turnover</th>\n",
       "      <th>ROA</th>\n",
       "      <th>Inception Date</th>\n",
       "      <th>Total Assets</th>\n",
       "      <th>Expenses</th>\n",
       "      <th>Min Investment</th>\n",
       "      <th>Market Cap</th>\n",
       "      <th>Category</th>\n",
       "    </tr>\n",
       "  </thead>\n",
       "  <tbody>\n",
       "    <tr>\n",
       "      <th>0</th>\n",
       "      <td>bankia cauto pp</td>\n",
       "      <td></td>\n",
       "      <td>- 0.49%</td>\n",
       "      <td>NaN</td>\n",
       "      <td></td>\n",
       "      <td>0%</td>\n",
       "      <td>14.79%</td>\n",
       "      <td>NaN</td>\n",
       "      <td>None</td>\n",
       "      <td>3.87%</td>\n",
       "      <td>15/10/2002</td>\n",
       "      <td>2.010000e+09</td>\n",
       "      <td>None</td>\n",
       "      <td>NaN</td>\n",
       "      <td>3.768000e+10</td>\n",
       "      <td>NaN</td>\n",
       "    </tr>\n",
       "  </tbody>\n",
       "</table>\n",
       "</div>"
      ],
      "text/plain": [
       "         Fund Name Rating 1-Year Change  Previous Close Risk Rating TTM Yield  \\\n",
       "0  bankia cauto pp              - 0.49%             NaN                    0%   \n",
       "\n",
       "      ROE  Issuer Turnover    ROA Inception Date  Total Assets Expenses  \\\n",
       "0  14.79%     NaN     None  3.87%     15/10/2002  2.010000e+09     None   \n",
       "\n",
       "   Min Investment    Market Cap  Category  \n",
       "0             NaN  3.768000e+10       NaN  "
      ]
     },
     "execution_count": 19,
     "metadata": {},
     "output_type": "execute_result"
    }
   ],
   "source": [
    "data\n"
   ]
  },
  {
   "cell_type": "markdown",
   "metadata": {},
   "source": [
    "# Libreria trendet (usada con investpy)\n",
    "\n",
    "https://github.com/alvarobartt/trendet\n"
   ]
  },
  {
   "cell_type": "code",
   "execution_count": 20,
   "metadata": {},
   "outputs": [
    {
     "data": {
      "image/png": "[encoded data removed]",
      "text/plain": [
       "<Figure size 1440x720 with 1 Axes>"
      ]
     },
     "metadata": {},
     "output_type": "display_data"
    }
   ],
   "source": [
    "#!python -m pip install trendet --upgrade\n",
    "import trendet\n",
    "\n",
    "import matplotlib.pyplot as plt\n",
    "import seaborn as sns\n",
    "\n",
    "sns.set(style='darkgrid')\n",
    "\n",
    "df = trendet.identify_all_trends(stock='BBVA',\n",
    "                                 country='Spain',\n",
    "                                 from_date='01/01/2020',\n",
    "                                 to_date='24/01/2021',\n",
    "                                 window_size=5,\n",
    "                                 identify='both')\n",
    "\n",
    "df.reset_index(inplace=True)\n",
    "\n",
    "plt.figure(figsize=(20, 10))\n",
    "\n",
    "ax = sns.lineplot(x=df.index, y=df['Close'])\n",
    "ax.set(xlabel='Date')\n",
    "\n",
    "labels = df['Up Trend'].dropna().unique().tolist()\n",
    "\n",
    "for label in labels:\n",
    "    sns.lineplot(x=df[df['Up Trend'] == label].index,\n",
    "                 y=df[df['Up Trend'] == label]['Close'],\n",
    "                 color='green')\n",
    "\n",
    "    ax.axvspan(df[df['Up Trend'] == label].index[0],\n",
    "               df[df['Up Trend'] == label].index[-1],\n",
    "               alpha=0.2,\n",
    "               color='green')\n",
    "\n",
    "labels = df['Down Trend'].dropna().unique().tolist()\n",
    "\n",
    "for label in labels:\n",
    "    sns.lineplot(x=df[df['Down Trend'] == label].index,\n",
    "                 y=df[df['Down Trend'] == label]['Close'],\n",
    "                 color='red')\n",
    "\n",
    "    ax.axvspan(df[df['Down Trend'] == label].index[0],\n",
    "               df[df['Down Trend'] == label].index[-1],\n",
    "               alpha=0.2,\n",
    "               color='red')\n",
    "               \n",
    "locs, _ = plt.xticks()\n",
    "labels = []\n",
    "\n",
    "for position in locs[1:-1]:\n",
    "    labels.append(str(df['Date'].loc[position])[:-9])\n",
    "\n",
    "plt.xticks(locs[1:-1], labels)\n",
    "plt.show()"
   ]
  },
  {
   "cell_type": "code",
   "execution_count": 21,
   "metadata": {},
   "outputs": [
    {
     "name": "stdout",
     "output_type": "stream",
     "text": [
      "Bankia Cauto Pp 523 Bbva Bolsa Usa (cubierto) Fi 530\n",
      "Arquiuno Prudente 30rv B Fi 695\n"
     ]
    }
   ],
   "source": [
    "# ejemplo gráfico con 2 lineas\n",
    "from math import *\n",
    "from numpy import *\n",
    "\n",
    "t = arange(0.1, 20, 0.1)\n",
    "\n",
    "# Retrieves historical data of 'Bankia Cauto Pp', which is a fund from 'Spain', on the specified date range as a pandas.DataFrame\n",
    "df_hist1 = investpy.get_fund_historical_data(fund='Rural Mixto Internacional 25 Fi', country='spain', from_date='01/01/2019', to_date='24/01/2021')\n",
    "\n",
    "# Retrieves historical data of 'Bankia Cauto Pp', which is a fund from 'Spain', on the specified date range as a pandas.DataFrame\n",
    "df_hist2 = investpy.get_fund_historical_data(fund='Bbva Bolsa Usa (cubierto) Fi', country='spain', from_date='01/01/2019', to_date='24/01/2021')\n",
    "\n",
    "# Retrieves historical data of 'Bankia Cauto Pp', which is a fund from 'Spain', on the specified date range as a pandas.DataFrame\n",
    "df_hist3 = investpy.get_fund_historical_data(fund='Arquiuno Prudente 30rv B Fi', country='spain', from_date='01/01/2019', to_date='24/01/2021')\n",
    "\n",
    "\n",
    "\n",
    "\n",
    "print('Bankia Cauto Pp', len(df_hist1),'Bbva Bolsa Usa (cubierto) Fi', len(df_hist2))\n",
    "print('Arquiuno Prudente 30rv B Fi', len(df_hist3))\n",
    "\n",
    "\n"
   ]
  },
  {
   "cell_type": "code",
   "execution_count": 22,
   "metadata": {},
   "outputs": [
    {
     "data": {
      "text/html": [
       "<div>\n",
       "<style scoped>\n",
       "    .dataframe tbody tr th:only-of-type {\n",
       "        vertical-align: middle;\n",
       "    }\n",
       "\n",
       "    .dataframe tbody tr th {\n",
       "        vertical-align: top;\n",
       "    }\n",
       "\n",
       "    .dataframe thead th {\n",
       "        text-align: right;\n",
       "    }\n",
       "</style>\n",
       "<table border=\"1\" class=\"dataframe\">\n",
       "  <thead>\n",
       "    <tr style=\"text-align: right;\">\n",
       "      <th></th>\n",
       "      <th>Open</th>\n",
       "      <th>High</th>\n",
       "      <th>Low</th>\n",
       "      <th>Close</th>\n",
       "      <th>Currency</th>\n",
       "    </tr>\n",
       "    <tr>\n",
       "      <th>Date</th>\n",
       "      <th></th>\n",
       "      <th></th>\n",
       "      <th></th>\n",
       "      <th></th>\n",
       "      <th></th>\n",
       "    </tr>\n",
       "  </thead>\n",
       "  <tbody>\n",
       "    <tr>\n",
       "      <th>2019-01-01</th>\n",
       "      <td>10.225</td>\n",
       "      <td>10.225</td>\n",
       "      <td>10.225</td>\n",
       "      <td>10.225</td>\n",
       "      <td>EUR</td>\n",
       "    </tr>\n",
       "    <tr>\n",
       "      <th>2019-01-02</th>\n",
       "      <td>10.214</td>\n",
       "      <td>10.214</td>\n",
       "      <td>10.214</td>\n",
       "      <td>10.214</td>\n",
       "      <td>EUR</td>\n",
       "    </tr>\n",
       "    <tr>\n",
       "      <th>2019-01-03</th>\n",
       "      <td>10.167</td>\n",
       "      <td>10.167</td>\n",
       "      <td>10.167</td>\n",
       "      <td>10.167</td>\n",
       "      <td>EUR</td>\n",
       "    </tr>\n",
       "    <tr>\n",
       "      <th>2019-01-04</th>\n",
       "      <td>10.212</td>\n",
       "      <td>10.212</td>\n",
       "      <td>10.212</td>\n",
       "      <td>10.212</td>\n",
       "      <td>EUR</td>\n",
       "    </tr>\n",
       "    <tr>\n",
       "      <th>2019-01-05</th>\n",
       "      <td>10.212</td>\n",
       "      <td>10.212</td>\n",
       "      <td>10.212</td>\n",
       "      <td>10.212</td>\n",
       "      <td>EUR</td>\n",
       "    </tr>\n",
       "  </tbody>\n",
       "</table>\n",
       "</div>"
      ],
      "text/plain": [
       "              Open    High     Low   Close Currency\n",
       "Date                                               \n",
       "2019-01-01  10.225  10.225  10.225  10.225      EUR\n",
       "2019-01-02  10.214  10.214  10.214  10.214      EUR\n",
       "2019-01-03  10.167  10.167  10.167  10.167      EUR\n",
       "2019-01-04  10.212  10.212  10.212  10.212      EUR\n",
       "2019-01-05  10.212  10.212  10.212  10.212      EUR"
      ]
     },
     "execution_count": 22,
     "metadata": {},
     "output_type": "execute_result"
    }
   ],
   "source": [
    "df_hist3.head()\n"
   ]
  },
  {
   "cell_type": "code",
   "execution_count": 23,
   "metadata": {},
   "outputs": [
    {
     "data": {
      "text/plain": [
       "'              Open    High     Low   Close Currency\\nDate                                               \\n2019-01-02  851.26  851.26  851.26  851.26      EUR\\n2019-01-03  845.75  845.75  845.75  845.75      EUR\\n2019-01-04  851.51  851.51  851.51  851.51      EUR\\n2019-01-05  851.50  851.50  851.50  851.50      EUR\\n2019-01-06  851.50  851.50  851.50  851.50      EUR\\n...            ...     ...     ...     ...      ...\\n2021-01-18  893.04  893.04  893.04  893.04      EUR\\n2021-01-19  893.94  893.94  893.94  893.94      EUR\\n2021-01-20  897.63  897.63  897.63  897.63      EUR\\n2021-01-21  896.60  896.60  896.60  896.60      EUR\\n2021-01-22  895.65  895.65  895.65  895.65      EUR\\n\\n[523 rows x 5 columns]'"
      ]
     },
     "execution_count": 23,
     "metadata": {},
     "output_type": "execute_result"
    }
   ],
   "source": [
    "str(df_hist1)"
   ]
  },
  {
   "cell_type": "code",
   "execution_count": 27,
   "metadata": {},
   "outputs": [
    {
     "name": "stderr",
     "output_type": "stream",
     "text": [
      "<ipython-input-27-f310d3407398>:12: MatplotlibDeprecationWarning: Adding an axes using the same arguments as a previous axes currently reuses the earlier instance.  In a future version, a new instance will always be created and returned.  Meanwhile, this warning can be suppressed, and the future behavior ensured, by passing a unique label to each axes instance.\n",
      "  ax = plt.axes()\n"
     ]
    },
    {
     "data": {
      "image/png": "[encoded data removed]",
      "text/plain": [
       "<Figure size 864x360 with 1 Axes>"
      ]
     },
     "metadata": {},
     "output_type": "display_data"
    }
   ],
   "source": [
    "\n",
    "import matplotlib.pyplot as plt \n",
    "  \n",
    "  \n",
    "  \n",
    "\n",
    "# Creo una figura (ventana), pero indico el tamaño (x,y) en pulgadas\n",
    "plt.figure(figsize=(12, 5))\n",
    "\n",
    "#plot(df_hist1.Open)\n",
    "plt.plot(df_hist2.Open.pct_change())\n",
    "plt.plot(df_hist3.Open.pct_change())\n",
    "ax = plt.axes() \n",
    "# Setting the background color of the plot  \n",
    "# using set_facecolor() method \n",
    "ax.set_facecolor(\"white\") \n",
    "\n",
    "\n",
    "\n",
    "# Texto en la gráfica en coordenadas (x,y)\n",
    "#texto1 = text(2, 0.6, r'$\\frac{\\sin(x)}{x}$', fontsize=20)\n",
    "#texto2 = text(13, 0.2, r'$\\sin(x) \\cdot e^{-x}$', fontsize=16)\n",
    "\n",
    "# Añado una malla al gráfico\n",
    "grid()\n",
    "\n",
    "# Añado leyenda, tamaño de letra 10, en esquina superior derecha\n",
    "legend(('Bbva Bolsa Usa (cubierto) Fi', 'Arquiuno Prudente 30rv B Fi'),\n",
    "prop = {'size': 10}, loc='upper left')\n",
    "\n",
    "\n",
    "box()\n",
    "\n",
    "title('Representacion de dos Fondos de Inversion - Volatility - pct_change()')\n",
    "xlabel('Fecha')\n",
    "ylabel('Precio')\n",
    "\n",
    "\n",
    "\n",
    "show()"
   ]
  },
  {
   "cell_type": "code",
   "execution_count": 25,
   "metadata": {},
   "outputs": [
    {
     "name": "stdout",
     "output_type": "stream",
     "text": [
      " * Serving Flask app \"__main__\" (lazy loading)\n",
      " * Environment: production\n",
      "\u001b[31m   WARNING: This is a development server. Do not use it in a production deployment.\u001b[0m\n",
      "\u001b[2m   Use a production WSGI server instead.\u001b[0m\n",
      " * Debug mode: off\n"
     ]
    },
    {
     "name": "stderr",
     "output_type": "stream",
     "text": [
      " * Running on http://127.0.0.1:5000/ (Press CTRL+C to quit)\n"
     ]
    }
   ],
   "source": [
    "from flask import Flask \n",
    "app = Flask(__name__) \n",
    "  \n",
    "@app.route('/blog/<postID>') \n",
    "def show_blog(postID): \n",
    "   return 'Blog Number %d' % postID \n",
    "  \n",
    "@app.route('/rev/<revNo>') \n",
    "def revision(revNo): \n",
    "   return 'Revision Number %f' % revNo \n",
    "  \n",
    "if __name__ == '__main__': \n",
    "   app.run() "
   ]
  },
  {
   "cell_type": "code",
   "execution_count": 26,
   "metadata": {},
   "outputs": [
    {
     "ename": "KeyboardInterrupt",
     "evalue": "",
     "output_type": "error",
     "traceback": [
      "\u001b[0;31m---------------------------------------------------------------------------\u001b[0m",
      "\u001b[0;31mKeyboardInterrupt\u001b[0m                         Traceback (most recent call last)",
      "\u001b[0;32m<ipython-input-26-0501b6276594>\u001b[0m in \u001b[0;36m<module>\u001b[0;34m\u001b[0m\n\u001b[1;32m     10\u001b[0m \u001b[0;34m\u001b[0m\u001b[0m\n\u001b[1;32m     11\u001b[0m \u001b[0mserver\u001b[0m \u001b[0;34m=\u001b[0m \u001b[0mmake_server\u001b[0m\u001b[0;34m(\u001b[0m\u001b[0;34m'localhost'\u001b[0m\u001b[0;34m,\u001b[0m \u001b[0;36m8000\u001b[0m\u001b[0;34m,\u001b[0m \u001b[0mapplication\u001b[0m\u001b[0;34m)\u001b[0m\u001b[0;34m\u001b[0m\u001b[0;34m\u001b[0m\u001b[0m\n\u001b[0;32m---> 12\u001b[0;31m \u001b[0mserver\u001b[0m\u001b[0;34m.\u001b[0m\u001b[0mserve_forever\u001b[0m\u001b[0;34m(\u001b[0m\u001b[0;34m)\u001b[0m\u001b[0;34m\u001b[0m\u001b[0;34m\u001b[0m\u001b[0m\n\u001b[0m",
      "\u001b[0;32m~/opt/anaconda3/lib/python3.8/socketserver.py\u001b[0m in \u001b[0;36mserve_forever\u001b[0;34m(self, poll_interval)\u001b[0m\n\u001b[1;32m    230\u001b[0m \u001b[0;34m\u001b[0m\u001b[0m\n\u001b[1;32m    231\u001b[0m                 \u001b[0;32mwhile\u001b[0m \u001b[0;32mnot\u001b[0m \u001b[0mself\u001b[0m\u001b[0;34m.\u001b[0m\u001b[0m__shutdown_request\u001b[0m\u001b[0;34m:\u001b[0m\u001b[0;34m\u001b[0m\u001b[0;34m\u001b[0m\u001b[0m\n\u001b[0;32m--> 232\u001b[0;31m                     \u001b[0mready\u001b[0m \u001b[0;34m=\u001b[0m \u001b[0mselector\u001b[0m\u001b[0;34m.\u001b[0m\u001b[0mselect\u001b[0m\u001b[0;34m(\u001b[0m\u001b[0mpoll_interval\u001b[0m\u001b[0;34m)\u001b[0m\u001b[0;34m\u001b[0m\u001b[0;34m\u001b[0m\u001b[0m\n\u001b[0m\u001b[1;32m    233\u001b[0m                     \u001b[0;31m# bpo-35017: shutdown() called during select(), exit immediately.\u001b[0m\u001b[0;34m\u001b[0m\u001b[0;34m\u001b[0m\u001b[0;34m\u001b[0m\u001b[0m\n\u001b[1;32m    234\u001b[0m                     \u001b[0;32mif\u001b[0m \u001b[0mself\u001b[0m\u001b[0;34m.\u001b[0m\u001b[0m__shutdown_request\u001b[0m\u001b[0;34m:\u001b[0m\u001b[0;34m\u001b[0m\u001b[0;34m\u001b[0m\u001b[0m\n",
      "\u001b[0;32m~/opt/anaconda3/lib/python3.8/selectors.py\u001b[0m in \u001b[0;36mselect\u001b[0;34m(self, timeout)\u001b[0m\n\u001b[1;32m    413\u001b[0m         \u001b[0mready\u001b[0m \u001b[0;34m=\u001b[0m \u001b[0;34m[\u001b[0m\u001b[0;34m]\u001b[0m\u001b[0;34m\u001b[0m\u001b[0;34m\u001b[0m\u001b[0m\n\u001b[1;32m    414\u001b[0m         \u001b[0;32mtry\u001b[0m\u001b[0;34m:\u001b[0m\u001b[0;34m\u001b[0m\u001b[0;34m\u001b[0m\u001b[0m\n\u001b[0;32m--> 415\u001b[0;31m             \u001b[0mfd_event_list\u001b[0m \u001b[0;34m=\u001b[0m \u001b[0mself\u001b[0m\u001b[0;34m.\u001b[0m\u001b[0m_selector\u001b[0m\u001b[0;34m.\u001b[0m\u001b[0mpoll\u001b[0m\u001b[0;34m(\u001b[0m\u001b[0mtimeout\u001b[0m\u001b[0;34m)\u001b[0m\u001b[0;34m\u001b[0m\u001b[0;34m\u001b[0m\u001b[0m\n\u001b[0m\u001b[1;32m    416\u001b[0m         \u001b[0;32mexcept\u001b[0m \u001b[0mInterruptedError\u001b[0m\u001b[0;34m:\u001b[0m\u001b[0;34m\u001b[0m\u001b[0;34m\u001b[0m\u001b[0m\n\u001b[1;32m    417\u001b[0m             \u001b[0;32mreturn\u001b[0m \u001b[0mready\u001b[0m\u001b[0;34m\u001b[0m\u001b[0;34m\u001b[0m\u001b[0m\n",
      "\u001b[0;31mKeyboardInterrupt\u001b[0m: "
     ]
    }
   ],
   "source": [
    "from wsgiref.simple_server import make_server\n",
    "\n",
    "def application(environ, start_response):\n",
    "    headers = [('Content-type', 'text/plain; charset=utf-8')]\n",
    "\n",
    "    start_response('200 OK', headers)\n",
    "\n",
    "\n",
    "    return ['Hola gente de códigofacilito'.encode('utf-8')]\n",
    "\n",
    "server = make_server('localhost', 8000, application)\n",
    "server.serve_forever()"
   ]
  },
  {
   "cell_type": "code",
   "execution_count": null,
   "metadata": {},
   "outputs": [],
   "source": [
    "from wsgiref.simple_server import make_server\n",
    "\n",
    "HTML = \"\"\"\n",
    "<!DOCTYPE html>\n",
    "<html>\n",
    "  <head>\n",
    "    <title>Título</title>\n",
    "  </head>\n",
    "  <body>\n",
    "    <h1>Hola gente de códigofacilito 3 </h1>\n",
    "  </body>\n",
    "</html>\n",
    "\"\"\"\n",
    "\n",
    "def application(environ, start_response):\n",
    "    headers = [ ('Content-type', 'text/html; charset=utf-8') ]\n",
    "\n",
    "    start_response('200 OK', headers)\n",
    "\n",
    "    return [bytes(HTML, 'utf-8')]\n",
    "\n",
    "server = make_server('localhost', 8001, application)\n",
    "server.serve_forever()\n"
   ]
  },
  {
   "cell_type": "code",
   "execution_count": null,
   "metadata": {},
   "outputs": [],
   "source": [
    "from jinja2 import FileSystemLoader, Environment\n",
    "from wsgiref.simple_server import make_server\n",
    "\n",
    "def application(environ, start_response):\n",
    "    env = Environment(loader=FileSystemLoader(\"templates\"))\n",
    "    template = env.get_template('template.html')\n",
    "\n",
    "    data = {\n",
    "        'title': 'WSGI tutorial',\n",
    "        'username': 'Codi'\n",
    "    }\n",
    "\n",
    "    html = template.render(data)\n",
    "\n",
    "    headers = [ ('Content-type', 'text/html; charset=utf-8') ]\n",
    "\n",
    "    start_response('200 OK', headers)\n",
    "\n",
    "    return [bytes(html, 'utf-8')]\n",
    "\n",
    "server = make_server('localhost', 8002, application)\n",
    "server.serve_forever()"
   ]
  },
  {
   "cell_type": "code",
   "execution_count": null,
   "metadata": {},
   "outputs": [],
   "source": []
  }
 ],
 "metadata": {
  "kernelspec": {
   "display_name": "Python 3",
   "language": "python",
   "name": "python3"
  },
  "language_info": {
   "codemirror_mode": {
    "name": "ipython",
    "version": 3
   },
   "file_extension": ".py",
   "mimetype": "text/x-python",
   "name": "python",
   "nbconvert_exporter": "python",
   "pygments_lexer": "ipython3",
   "version": "3.8.3"
  }
 },
 "nbformat": 4,
 "nbformat_minor": 4
}
